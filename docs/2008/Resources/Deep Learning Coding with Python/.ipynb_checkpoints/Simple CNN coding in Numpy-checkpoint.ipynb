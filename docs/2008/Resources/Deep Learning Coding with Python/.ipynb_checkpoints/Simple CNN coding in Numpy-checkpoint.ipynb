{
 "cells": [
  {
   "cell_type": "code",
   "execution_count": null,
   "metadata": {},
   "outputs": [],
   "source": [
    "# The Code is originally from towardsdatascience.com"
   ]
  },
  {
   "cell_type": "code",
   "execution_count": 1,
   "metadata": {},
   "outputs": [],
   "source": [
    "import skimage.data\n",
    "\n",
    "# Reading the image\n",
    "\n",
    "img = skimage.data.chelsea()\n",
    "\n",
    "# Converting the image into gray. (It means, we don't want to use 3 Channels-R,G,B- for make problem easier)\n",
    "\n",
    "img = skimage.color.rgb2gray(img)"
   ]
  },
  {
   "cell_type": "code",
   "execution_count": 3,
   "metadata": {},
   "outputs": [],
   "source": [
    "import numpy as np\n",
    "\n",
    "l1_filter = np.zeros((2,3,3)) # 2 : num of filters, 3x3 kernel size"
   ]
  },
  {
   "cell_type": "code",
   "execution_count": 5,
   "metadata": {},
   "outputs": [],
   "source": [
    "l1_filter[0, :, :] = np.array([[[-1, 0, 1],\n",
    "                                   [-1, 0, 1],\n",
    "                                   [-1, 0, 1]]])\n",
    "l1_filter[1, :, :] = np.array([[[1,   1,  1],\n",
    "                                   [0,   0,  0],\n",
    "                                   [-1, -1, -1]]])"
   ]
  },
  {
   "cell_type": "code",
   "execution_count": 16,
   "metadata": {},
   "outputs": [
    {
     "name": "stdout",
     "output_type": "stream",
     "text": [
      "(300, 451)\n",
      "2\n",
      "451\n",
      "(2, 3, 3)\n"
     ]
    }
   ],
   "source": [
    "# Testing Code\n",
    "print(img.shape)\n",
    "print(len(img.shape))\n",
    "print(img.shape[-1])\n",
    "\n",
    "print(l1_filter.shape) # (num of filters, width of filter, height of filter)"
   ]
  },
  {
   "cell_type": "code",
   "execution_count": 17,
   "metadata": {},
   "outputs": [],
   "source": [
    "def conv(img, conv_filter):\n",
    "    if len(img.shape) > 2 or len(conv_filter.shape) > 3: # Check if number of image channels matches the filter depth.\n",
    "        if image.shape[-1] != conv_filter.shape[-1]:\n",
    "            print(\"Error : Number of channels in both image and filter must match.\")\n",
    "            sys.exit()\n",
    "    if conv_filter.shape[-1] != conv_filter.shape[2]: # Check if filter dimensions are equal.\n",
    "        print(\"Error : Filter must be a square matrix. i.e. number of rows and columns must match.\")\n",
    "        sys.exit()\n",
    "    if conv_filter.shape[1] % 2 == 0: # Check if filter dimensions are odd.\n",
    "        print(\"Error : Filter must have an odd size. i.e. number of rows and columns must be odd.\")\n",
    "        sys.exit()\n",
    "    \n",
    "    # An empty feature map to hold the output of convolving the filter(s) with the image.\n",
    "    feature_maps = numpy.zeros((img.shape[0]-conv_filter.shape[1] + 1, img.shape[1]-conv_filter.shape[1] + 1, conv_filter.shape[0]))\n",
    "    # Dimension of feature_maps : (Image Width(img.shape[0]) - Filter Width(conv_filter.shape[1]) + 1(Bias), Image Height(img.shape[1]) - Filter Height(conv_filter.shape[1] + 1(Bias), Num of channels(conv_filter.shape[0]))\n",
    "    # conv_filter.shape[1] == conv_filter.shape[2] (3 == 3)\n",
    "    \n",
    "    # Convolving the image by the filter(s).\n",
    "    for filter_num in range(conv_filter.shape[0]): # for loop within filters(shape[0] is 2 for now)\n",
    "        print(\"Filter \", filter_num + 1) # since idx starts from 0, we add 1\n",
    "        curr_filter = conv_filter[filter_num, :] # getting a filter from the bank.\n",
    "        \"\"\"\n",
    "        Checking if there are multiple channels for the single filter.\n",
    "        If so, then each channel will convolve the image.\n",
    "        The result of all convolutions are summed to return a single feature map.\n",
    "        \"\"\"\n",
    "        if len(curr_filter.shape) > 2: # shape of curr_filter should be (3,3) so len will be 2(no depth)\n",
    "            conv_map = conv_(img[:,:,0], curr_filter[:,:,0]) # Array holding the sum of all feature maps.\n",
    "            for ch_num in range(1, curr_filter.shape[-1]): # Convolving each channel with the image and summing the results.\n",
    "                conv_map = conv_map + conv_(img[:,:,ch_num], curr_filter[:,:,ch_num])\n",
    "        else: # There is just a single channel in the filter\n",
    "            conv_map = conv_(img, curr_filter)\n",
    "        feature_maps[:,:, filter_num] = conv_map # Holding feature map with the current filter\n",
    "    return feature_maps # Returning all feature maps"
   ]
  },
  {
   "cell_type": "code",
   "execution_count": 18,
   "metadata": {},
   "outputs": [],
   "source": [
    "def conv_(img, conv_filter): # function for convolution operation\n",
    "    filter_size = conv_filter.shape[1] # conv_filter : (num of filter, width, height)\n",
    "    result = np.zeros((img.shape)) # make tuple size of img\n",
    "    # Looping through the image to apply the convolution operation.\n",
    "    for r in np.uint16(np.arange(filter_size/2.0, img.shape[0]-filter_size/2.0 + 1)):\n",
    "        for c in np.uint16(np.arange(filter_size/2.0, img.shape[1]-filter_size/2.0 + 1)):\n",
    "            \"\"\"\n",
    "            Getting the current region to get multiplied with the filter.\n",
    "            How to loop through the image and get the region based on the image and filter sizes is the most tricky part of convolution.\n",
    "            \"\"\"\n",
    "            curr_region = img[r - np.uint16(np.floor(filter_size/2.0)):r + np.uint16(np.ceil(filter_size/2.0)),\n",
    "                              c - np.uint16(np.floor(filter_size/2.0)):c + np.uint16(np.ceil(filter_size/2.0))]\n",
    "            # Element-wise multiplication between the current region and the filter.\n",
    "            curr_result = curr_region * conv_filter\n",
    "            conv_sum = np.sum(curr_result) # Summing the result of multiplication.\n",
    "            result[r, c] = conv_sum # Saving the summation in the convolution layer feature map.\n",
    "        \n",
    "        # Clipping the outliers of the result matrix.\n",
    "        final_result = result[np.uint16(filter_size/2.0):result.shape[0] - np.uint16(filter_size/2.0),\n",
    "                              np.uint16(filter_size/2.0):result.shape[1] - np.uint16(filter_size/2.0)]\n",
    "    return final_result"
   ]
  },
  {
   "cell_type": "code",
   "execution_count": null,
   "metadata": {},
   "outputs": [],
   "source": []
  }
 ],
 "metadata": {
  "kernelspec": {
   "display_name": "Python 3",
   "language": "python",
   "name": "python3"
  },
  "language_info": {
   "codemirror_mode": {
    "name": "ipython",
    "version": 3
   },
   "file_extension": ".py",
   "mimetype": "text/x-python",
   "name": "python",
   "nbconvert_exporter": "python",
   "pygments_lexer": "ipython3",
   "version": "3.8.5"
  }
 },
 "nbformat": 4,
 "nbformat_minor": 4
}
